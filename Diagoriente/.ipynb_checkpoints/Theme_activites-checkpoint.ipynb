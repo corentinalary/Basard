{
 "cells": [
  {
   "cell_type": "markdown",
   "id": "50e100f4",
   "metadata": {},
   "source": [
    "# Trie par type du fichier"
   ]
  },
  {
   "cell_type": "code",
   "execution_count": 36,
   "id": "bc0cc621",
   "metadata": {},
   "outputs": [],
   "source": [
    "import numpy as np\n",
    "import pandas as pd"
   ]
  },
  {
   "cell_type": "code",
   "execution_count": 37,
   "id": "a8f483f5",
   "metadata": {},
   "outputs": [],
   "source": [
    "file_path = 'export noé exp v2.csv'\n",
    "\n",
    "df = pd.read_csv(file_path)\n",
    "\n",
    "df = df.sort_values('type')\n",
    "\n",
    "\n",
    "df.to_csv('Type/Pandas_event.csv')"
   ]
  },
  {
   "cell_type": "markdown",
   "id": "0eb7265d",
   "metadata": {},
   "source": [
    "## On enregistre les advisors"
   ]
  },
  {
   "cell_type": "code",
   "execution_count": 71,
   "id": "1dd618b4",
   "metadata": {},
   "outputs": [],
   "source": [
    "file_path = 'Type/Pandas_event.csv'\n",
    "\n",
    "df = pd.read_csv(file_path)\n",
    "df = df.loc[df['type'] == 'advisor' ]\n",
    "\n",
    "df.to_csv('Type/type_advisor.csv')"
   ]
  },
  {
   "cell_type": "markdown",
   "id": "7ff7fdf8",
   "metadata": {},
   "source": [
    "## On enregistre les engagements"
   ]
  },
  {
   "cell_type": "code",
   "execution_count": 65,
   "id": "3ba931b7",
   "metadata": {},
   "outputs": [],
   "source": [
    "file_path = 'Type/Pandas_event.csv'\n",
    "\n",
    "df = pd.read_csv(file_path)\n",
    "df = df.loc[df['type'] == 'engagement' ]\n",
    "\n",
    "df.to_csv('Type/type_engagement.csv')"
   ]
  },
  {
   "cell_type": "markdown",
   "id": "b45684f3",
   "metadata": {},
   "source": [
    "## On enregistre les personals"
   ]
  },
  {
   "cell_type": "code",
   "execution_count": 66,
   "id": "96e2a7d3",
   "metadata": {},
   "outputs": [],
   "source": [
    "file_path = 'Type/Pandas_event.csv'\n",
    "\n",
    "df = pd.read_csv(file_path)\n",
    "df = df.loc[df['type'] == 'personal' ]\n",
    "\n",
    "df.to_csv('Type/type_personal.csv')"
   ]
  },
  {
   "cell_type": "markdown",
   "id": "d2005173",
   "metadata": {},
   "source": [
    "## On enregistre les professionals"
   ]
  },
  {
   "cell_type": "code",
   "execution_count": 67,
   "id": "b70d46a1",
   "metadata": {},
   "outputs": [],
   "source": [
    "file_path = 'Type/Pandas_event.csv'\n",
    "\n",
    "df = pd.read_csv(file_path)\n",
    "df = df.loc[df['type'] == 'professional' ]\n",
    "\n",
    "df.to_csv('Type/type_professional.csv')"
   ]
  },
  {
   "cell_type": "markdown",
   "id": "51a787e4",
   "metadata": {},
   "source": [
    "## On enregistre les sports"
   ]
  },
  {
   "cell_type": "code",
   "execution_count": 99,
   "id": "ea78d70f",
   "metadata": {},
   "outputs": [],
   "source": [
    "file_path = 'Type/Pandas_event.csv'\n",
    "\n",
    "df = pd.read_csv(file_path)\n",
    "df = df.loc[df['type'] == 'sport' ]\n",
    "\n",
    "df.to_csv('Type/type_sport.csv')"
   ]
  },
  {
   "cell_type": "markdown",
   "id": "1dca7257",
   "metadata": {},
   "source": [
    "## Cleaning advisors"
   ]
  },
  {
   "cell_type": "code",
   "execution_count": 69,
   "id": "7696c489",
   "metadata": {},
   "outputs": [],
   "source": [
    "file_path = 'Type/type_advisor.csv'\n",
    "df = pd.read_csv(file_path)\n",
    "\n",
    "df.replace(['vzvzvz','aed', 'eaeaeae', 'eee','eaeae','eaeaeaeae', 'dadadad', 'eaeppmld,a,fmla', 'dazfaffa'] , np.nan, inplace=True)\n",
    "\n",
    "df = df.dropna(axis='index', how='any', subset=['theme', 'activities'])\n",
    "\n",
    "df.to_csv(file_path)"
   ]
  },
  {
   "cell_type": "markdown",
   "id": "d12a0c30",
   "metadata": {},
   "source": [
    "## Themes advisors"
   ]
  },
  {
   "cell_type": "code",
   "execution_count": 57,
   "id": "625486c0",
   "metadata": {},
   "outputs": [],
   "source": [
    "file_path = 'Type/type_advisor.csv'\n",
    "df = pd.read_csv(file_path)\n",
    "df = df.sort_values('theme')\n",
    "df.drop_duplicates(subset=['_id.$oid', 'theme'], inplace = True)\n",
    "\n",
    "df['count'] = 1\n",
    "\n",
    "df = df.groupby(['theme']).count()['count']\n",
    "\n",
    "df.to_csv(file_path)"
   ]
  },
  {
   "cell_type": "markdown",
   "id": "3fec7c5e",
   "metadata": {},
   "source": [
    "## Themes personals"
   ]
  },
  {
   "cell_type": "code",
   "execution_count": 58,
   "id": "1404b81d",
   "metadata": {},
   "outputs": [],
   "source": [
    "file_path = 'Type/type_personal.csv'\n",
    "df = pd.read_csv(file_path)\n",
    "df = df.sort_values('theme')\n",
    "df.drop_duplicates(subset=['_id.$oid', 'theme'], inplace = True)\n",
    "\n",
    "df['count'] = 1\n",
    "\n",
    "df = df.groupby(['theme']).count()['count']\n",
    "\n",
    "df.to_csv(file_path)"
   ]
  },
  {
   "cell_type": "markdown",
   "id": "49a69112",
   "metadata": {},
   "source": [
    "## "
   ]
  },
  {
   "cell_type": "markdown",
   "id": "b8f73dfd",
   "metadata": {},
   "source": [
    "## Themes professionals"
   ]
  },
  {
   "cell_type": "code",
   "execution_count": 59,
   "id": "09e0a685",
   "metadata": {},
   "outputs": [],
   "source": [
    "file_path = 'Type/type_professional.csv'\n",
    "df = pd.read_csv(file_path)\n",
    "df = df.sort_values('theme')\n",
    "df.drop_duplicates(subset=['_id.$oid', 'theme'], inplace = True)\n",
    "\n",
    "df['count'] = 1\n",
    "\n",
    "df = df.groupby(['theme']).count()['count']\n",
    "\n",
    "df.to_csv(file_path)"
   ]
  },
  {
   "cell_type": "markdown",
   "id": "389e54e9",
   "metadata": {},
   "source": [
    "## Themes sport"
   ]
  },
  {
   "cell_type": "code",
   "execution_count": 60,
   "id": "30d1e096",
   "metadata": {},
   "outputs": [],
   "source": [
    "file_path = 'Type/type_sport.csv'\n",
    "df = pd.read_csv(file_path)\n",
    "df = df.sort_values('theme')\n",
    "df.drop_duplicates(subset=['_iactivitiesd.$oid', 'theme'], inplace = True)\n",
    "\n",
    "df['count'] = 1\n",
    "\n",
    "df = df.groupby(['theme']).count()['count']\n",
    "\n",
    "df.to_csv(file_path)"
   ]
  },
  {
   "cell_type": "markdown",
   "id": "b4ba917c",
   "metadata": {},
   "source": [
    "## Themes engagement"
   ]
  },
  {
   "cell_type": "code",
   "execution_count": 63,
   "id": "3de80761",
   "metadata": {},
   "outputs": [],
   "source": [
    "file_path = 'Type/type_engagement.csv'\n",
    "df = pd.read_csv(file_path)\n",
    "df = df.sort_values('theme')\n",
    "df.drop_duplicates(subset=['_id.$oid', 'theme'], inplace = True)\n",
    "\n",
    "df['count'] = 1\n",
    "\n",
    "df = df.groupby(['theme']).count()['count']\n",
    "\n",
    "df.to_csv(file_path)"
   ]
  },
  {
   "cell_type": "markdown",
   "id": "dbb4660e",
   "metadata": {},
   "source": [
    "## Activités Advisors"
   ]
  },
  {
   "cell_type": "code",
   "execution_count": null,
   "id": "0705b6eb",
   "metadata": {},
   "outputs": [],
   "source": []
  },
  {
   "cell_type": "markdown",
   "id": "b40ff483",
   "metadata": {},
   "source": [
    "## Activités personal"
   ]
  },
  {
   "cell_type": "code",
   "execution_count": null,
   "id": "d4256038",
   "metadata": {},
   "outputs": [],
   "source": []
  },
  {
   "cell_type": "markdown",
   "id": "a5a778d1",
   "metadata": {},
   "source": [
    "## Activités professional"
   ]
  },
  {
   "cell_type": "code",
   "execution_count": null,
   "id": "050e74c0",
   "metadata": {},
   "outputs": [],
   "source": []
  },
  {
   "cell_type": "markdown",
   "id": "426fa91b",
   "metadata": {},
   "source": [
    "## Activités Sport"
   ]
  },
  {
   "cell_type": "markdown",
   "id": "e4d47dcd",
   "metadata": {},
   "source": [
    "### Ordre par activité Sport"
   ]
  },
  {
   "cell_type": "code",
   "execution_count": 100,
   "id": "1eeacd3c",
   "metadata": {},
   "outputs": [],
   "source": [
    "file_path = 'Type/type_sport.csv'\n",
    "df = pd.read_csv(file_path)\n",
    "\n",
    "df = df.dropna(axis='index', how='any', subset=['activities'])\n",
    "\n",
    "df = df.sort_values('theme')\n",
    "\n",
    "df['count'] = 1\n",
    "\n",
    "df = df.drop(['_id.$oid', 'type', '$date', 'competences'], axis = 1)\n",
    "\n",
    "df = df.groupby(['theme', 'activities']).count()['count']\n",
    "\n",
    "df.to_csv(file_path)"
   ]
  },
  {
   "cell_type": "markdown",
   "id": "8ee2ca61",
   "metadata": {},
   "source": [
    "## Activités Professionnal"
   ]
  },
  {
   "cell_type": "code",
   "execution_count": 101,
   "id": "851a3f02",
   "metadata": {},
   "outputs": [],
   "source": [
    "file_path = 'Type/type_professional.csv'\n",
    "df = pd.read_csv(file_path)\n",
    "\n",
    "df = df.dropna(axis='index', how='any', subset=['activities'])\n",
    "\n",
    "df = df.sort_values('theme')\n",
    "\n",
    "df['count'] = 1\n",
    "\n",
    "df = df.drop(['_id.$oid', 'type', '$date', 'competences'], axis = 1)\n",
    "\n",
    "df = df.groupby(['theme', 'activities']).count()['count']\n",
    "\n",
    "df.to_csv(file_path)"
   ]
  },
  {
   "cell_type": "markdown",
   "id": "ef4e7665",
   "metadata": {},
   "source": [
    "## Activités personals"
   ]
  },
  {
   "cell_type": "code",
   "execution_count": 102,
   "id": "f647487d",
   "metadata": {},
   "outputs": [],
   "source": [
    "file_path = 'Type/type_personal.csv'\n",
    "df = pd.read_csv(file_path)\n",
    "\n",
    "df = df.dropna(axis='index', how='any', subset=['activities'])\n",
    "\n",
    "df = df.sort_values('theme')\n",
    "\n",
    "df['count'] = 1\n",
    "\n",
    "df = df.drop(['_id.$oid', 'type', '$date', 'competences'], axis = 1)\n",
    "\n",
    "df = df.groupby(['theme', 'activities']).count()['count']\n",
    "\n",
    "df.to_csv(file_path)"
   ]
  },
  {
   "cell_type": "markdown",
   "id": "d868db60",
   "metadata": {},
   "source": [
    "## Activités advisors"
   ]
  },
  {
   "cell_type": "code",
   "execution_count": null,
   "id": "72605e50",
   "metadata": {},
   "outputs": [],
   "source": [
    "file_path = 'Type/type_advisor.csv'\n",
    "df = pd.read_csv(file_path)\n",
    "\n",
    "df = df.dropna(axis='index', how='any', subset=['activities'])\n",
    "\n",
    "df = df.sort_values('theme')\n",
    "\n",
    "df['count'] = 1\n",
    "\n",
    "df = df.drop(['_id.$oid', 'type', '$date', 'competences'], axis = 1)\n",
    "\n",
    "df = df.groupby(['theme', 'activities']).count()['count']\n",
    "\n",
    "df.to_csv(file_path)"
   ]
  },
  {
   "cell_type": "code",
   "execution_count": null,
   "id": "27c75ff9",
   "metadata": {},
   "outputs": [],
   "source": []
  },
  {
   "cell_type": "code",
   "execution_count": null,
   "id": "4334fcab",
   "metadata": {},
   "outputs": [],
   "source": []
  }
 ],
 "metadata": {
  "kernelspec": {
   "display_name": "Python 3",
   "language": "python",
   "name": "python3"
  },
  "language_info": {
   "codemirror_mode": {
    "name": "ipython",
    "version": 3
   },
   "file_extension": ".py",
   "mimetype": "text/x-python",
   "name": "python",
   "nbconvert_exporter": "python",
   "pygments_lexer": "ipython3",
   "version": "3.8.5"
  }
 },
 "nbformat": 4,
 "nbformat_minor": 5
}
